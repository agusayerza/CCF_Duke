{
  "nbformat": 4,
  "nbformat_minor": 0,
  "metadata": {
    "colab": {
      "name": "CloudComputingFundamentalsDuke.ipynb",
      "provenance": [],
      "authorship_tag": "ABX9TyMMzLZWWO/rKlJjpVdHHys+",
      "include_colab_link": true
    },
    "kernelspec": {
      "name": "python3",
      "display_name": "Python 3"
    },
    "language_info": {
      "name": "python"
    }
  },
  "cells": [
    {
      "cell_type": "markdown",
      "metadata": {
        "id": "view-in-github",
        "colab_type": "text"
      },
      "source": [
        "<a href=\"https://colab.research.google.com/github/agusayerza/CCF_Duke/blob/main/CloudComputingFundamentalsDuke.ipynb\" target=\"_parent\"><img src=\"https://colab.research.google.com/assets/colab-badge.svg\" alt=\"Open In Colab\"/></a>"
      ]
    },
    {
      "cell_type": "markdown",
      "source": [
        ""
      ],
      "metadata": {
        "id": "qFafd2bMBZq3"
      }
    },
    {
      "cell_type": "markdown",
      "source": [
        "# Hello world test\n",
        "This is a test of how Google Colab and Markdown works"
      ],
      "metadata": {
        "id": "dbBEMxCaBdnF"
      }
    },
    {
      "cell_type": "code",
      "execution_count": null,
      "metadata": {
        "id": "h9c23JD_BWDg"
      },
      "outputs": [],
      "source": [
        "print(\"Hello world\")"
      ]
    }
  ]
}